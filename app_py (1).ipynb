{
  "nbformat": 4,
  "nbformat_minor": 0,
  "metadata": {
    "colab": {
      "provenance": []
    },
    "kernelspec": {
      "name": "python3",
      "display_name": "Python 3"
    },
    "language_info": {
      "name": "python"
    }
  },
  "cells": [
    {
      "cell_type": "code",
      "execution_count": null,
      "metadata": {
        "id": "BMVCpSh0Rrxi"
      },
      "outputs": [],
      "source": [
        "import numpy as np\n",
        "import pandas as pd\n",
        "import matplotlib.pyplot as plt\n",
        "from sklearn.model_selection import train_test_split\n",
        "from sklearn.linear_model import LinearRegression\n",
        "# Fish Length (cm)\n",
        "length = np.array([5, 10, 15, 20, 25, 30, 35, 40, 45, 50]).reshape(-1, 1)\n",
        "\n",
        "# Fish Weight (grams) - hypothetical data\n",
        "weight = np.array([5, 50, 120, 200, 350, 500, 700, 1000, 1200, 1500])\n",
        "X_train, X_test, y_train, y_test = train_test_split(length, weight, test_size=0.2, random_state=42)\n",
        "model = LinearRegression()\n",
        "model.fit(X_train, y_train)\n",
        "pred = model.predict(X_test)\n",
        "\n",
        "print(\" Actual Weights:\", y_test)\n",
        "print(\" Predicted Weights:\", pred)\n",
        "fish_length = [[12], [28], [40]]  # test inputs\n",
        "predicted_weight = model.predict(fish_length)\n",
        "\n",
        "print(f\" Predicted weight of 12 cm fish = {predicted_weight[0]:.2f} g\")\n",
        "print(f\" Predicted weight of 28 cm fish = {predicted_weight[1]:.2f} g\")\n",
        "print(f\" Predicted weight of 40 cm fish = {predicted_weight[2]:.2f} g\")\n",
        "plt.scatter(length, weight, color=\"blue\", label=\"Actual Data\")\n",
        "plt.plot(length, model.predict(length), color=\"red\", label=\"Regression Line\")\n",
        "plt.xlabel(\"Fish Length (cm)\")\n",
        "plt.ylabel(\"Fish Weight (g)\")\n",
        "plt.title(\" Fish Weight Prediction\")\n",
        "plt.legend()\n",
        "plt.show()"
      ]
    }
  ]
}